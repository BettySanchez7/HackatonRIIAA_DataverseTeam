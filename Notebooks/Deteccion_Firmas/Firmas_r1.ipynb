{
  "nbformat": 4,
  "nbformat_minor": 0,
  "metadata": {
    "colab": {
      "name": "Firmas_r1.ipynb",
      "provenance": []
    },
    "kernelspec": {
      "name": "python3",
      "display_name": "Python 3"
    },
    "language_info": {
      "name": "python"
    },
    "accelerator": "GPU"
  },
  "cells": [
    {
      "cell_type": "markdown",
      "metadata": {
        "id": "od1EGY9dguFh"
      },
      "source": [
        "##***MODELO DE DETECCION Y CONTORNEO DE FIRMAS EN IMÁGENES DE DOCUMENTOS*** \n",
        "---\n",
        "En este presente Colab lo que tratamos de construir es un modelo para detectar las firmas existentes de las fotogafías de los documentos 'Expedientes' y poder tener una mejor visualizacion, una vez identificada creamos un recuadro donde se aloja la firma en la imagen.\n",
        "Para esto ocupamos **OpenCv** *(biblioteca libre de visión artificial)* y **Scikit-image** *(colección de algoritmos para el procesamiento de imágenes)*."
      ]
    },
    {
      "cell_type": "markdown",
      "metadata": {
        "id": "sjEQ3dBAMSRb"
      },
      "source": [
        "#Paso 1:\n",
        "Importamos las imágenes desde nuestra carpeta en Drive para usarlo en el modelo.\n",
        "      "
      ]
    },
    {
      "cell_type": "code",
      "metadata": {
        "colab": {
          "base_uri": "https://localhost:8080/"
        },
        "id": "eNB3gH2tgkKQ",
        "outputId": "65640fc2-da2d-4541-87b7-5fccde9b1276"
      },
      "source": [
        "from google.colab import drive\n",
        "drive.mount('/content/drive')\n",
        "#4/1AX4XfWjuLcZ3Z5ifH8zcDp-ZPqc_GrhjQZ2uMetoG65xRfLuc3isOJM0WEs"
      ],
      "execution_count": null,
      "outputs": [
        {
          "output_type": "stream",
          "text": [
            "Mounted at /content/drive\n"
          ],
          "name": "stdout"
        }
      ]
    },
    {
      "cell_type": "code",
      "metadata": {
        "id": "KEH0YKiSLRGY"
      },
      "source": [
        "\n",
        "in_dir= 'drive/MyDrive/Datos - Hackathon JusticIA/Expedientes'\n",
        "def ls(ruta = getcwd()):\n",
        "    return [abspath(arch.path) for arch in scandir(ruta) if arch.is_file()]\n",
        "lista=ls(in_dir)\n",
        "print(len(lista))"
      ],
      "execution_count": null,
      "outputs": []
    },
    {
      "cell_type": "code",
      "metadata": {
        "id": "y8nO8fLELHnI"
      },
      "source": [
        ""
      ],
      "execution_count": null,
      "outputs": []
    },
    {
      "cell_type": "markdown",
      "metadata": {
        "id": "DS6HBGq2M8FQ"
      },
      "source": [
        "#Paso 2\n",
        "Importamos las Librerias"
      ]
    },
    {
      "cell_type": "code",
      "metadata": {
        "id": "uG_oXg1TgxAq"
      },
      "source": [
        "import cv2\n",
        "import matplotlib.pyplot as plt\n",
        "from skimage import measure, morphology\n",
        "from skimage.color import label2rgb\n",
        "from skimage.measure import regionprops\n",
        "import numpy as np\n",
        "import sklearn\n",
        "import scipy \n",
        "import math\n",
        "import  PIL\n",
        "from PIL import Image \n",
        "import pandas as pd\n",
        "from os import scandir, getcwd\n",
        "from os.path import abspath\n",
        "import os\n",
        "import numpy as np\n",
        "import cv2\n",
        "import imutils"
      ],
      "execution_count": null,
      "outputs": []
    },
    {
      "cell_type": "code",
      "metadata": {
        "colab": {
          "base_uri": "https://localhost:8080/"
        },
        "id": "eW0pTM5uhpmA",
        "outputId": "ea99b7cf-656e-4aeb-8433-729200dbebf5"
      },
      "source": [
        ""
      ],
      "execution_count": null,
      "outputs": [
        {
          "output_type": "stream",
          "text": [
            "6 768\n"
          ],
          "name": "stdout"
        }
      ]
    },
    {
      "cell_type": "markdown",
      "metadata": {
        "id": "TeeBx9mTK_GJ"
      },
      "source": [
        "#Paso 3\n",
        "  Implementación del Modelo, *EXTRACCION Y CONTORNEO DE FIRMAS EN UNA IMAGEN BASADO EN EL ANÁLISIS DE COMPONENTES CONECTADOS*\n",
        "\n",
        "  Para esta parte lo primero que hacemos es crear un ciclo para acceder a las imágenes de la carpeta.\n",
        ">Idea del modelo\n",
        "  >>PARTE 1: En esta primera parte aplicaremos el concepto de análisis de componentes conectados, aplicando distintos filtros y discriminando componentes pequeños conectados (letras, rayones, etc.), nos quedamos con los componentes mas grandes conectados, en este caso las *firmas*, dándonos como resultado una imagen binaria donde solo se muestra el fondo blanco y los componentes conectados (firmas) en color negro.\n",
        "\n",
        "  >>PARTE 2: Para la ultima parte recibimos la imagen umbralizada de la primera parte, en esta buscamos los contornos y los seleccionamos en rectángulos encerrando el área de las firmas. \n",
        "  >Finalmente guardamos las imágenes en un .csv para que se pueda descargar y visualizar.\n",
        "\n",
        "  \n",
        "\n",
        "\n",
        "\n",
        "\n",
        "\n"
      ]
    },
    {
      "cell_type": "code",
      "metadata": {
        "id": "97Qvx9sjgxNC"
      },
      "source": [
        "\"\"\"Extract signatures from an image.\"\"\"\n",
        "file = fileList[:900]\n",
        "path = \"/content/drive/MyDrive/Datos - Hackathon JusticIA/Expedientes\"\n",
        "\n",
        "t = 0\n",
        "i = 0\n",
        "for test in file:\n",
        "    #PARTE 1\n",
        "    ##píxeles conectados de tamaño pequeño\n",
        "    constant_parameter_1 = 84\n",
        "    constant_parameter_2 = 250\n",
        "    constant_parameter_3 = 100\n",
        "    #píxeles conectados de gran tamaño\n",
        "    constant_parameter_4 = 18\n",
        "    # read the img\n",
        "    img = cv2.imread(test, 0)\n",
        "\n",
        "    img = cv2.threshold(img, 127, 255, cv2.THRESH_BINARY)[1]  \n",
        "\n",
        "    #Analisis de componentes conectados        \n",
        "    blobs = img > img.mean()\n",
        "    #Etiqueta las regiones conectadas de una matriz\n",
        "    #nos devuelve una matriz etiquetada, donde a todas las regiones conectadas se les asigna el mismo valor entero.\n",
        "    blobs_labels = measure.label(blobs, background=1)  \n",
        "    #Devuelve una imagen RGB donde se pintan etiquetas codificadas por colores sobre la imagen.\n",
        "    image_label_overlay = label2rgb(blobs_labels, image=img)\n",
        "    #\n",
        "    fig, ax = plt.subplots(figsize=(10, 6)) #nro col, nro fil\n",
        "    #Inicializamos parámetros iniciales\n",
        "    the_biggest_component = 0\n",
        "    total_area = 0\n",
        "    counter = 0\n",
        "    average = 0.0\n",
        "    #\n",
        "    for region in regionprops(blobs_labels):\n",
        "        if (region.area > 10):\n",
        "            total_area = total_area + region.area\n",
        "            counter = counter + 1\n",
        "            \n",
        "        #toma las regiones con áreas suficientemente grandes\n",
        "        if (region.area >= 250):\n",
        "            if (region.area > the_biggest_component):\n",
        "                the_biggest_component = region.area\n",
        "\n",
        "    #sacamos la media de la áreas pequeñas y el componente más grande lo ponemos en the_bigest_component\n",
        "    average = (total_area/counter)   \n",
        "\n",
        "    #calulamos las proporciones de la áres\n",
        "    # se utiliza como valor umbral para eliminar los píxeles conectados más pequeños, tambien para documentos grandes como el a4\n",
        "    a4_small_size_outliar_constant = ((average/constant_parameter_1)*constant_parameter_2)+constant_parameter_3    \n",
        "    # cálculo de la relación\n",
        "    # se utiliza como valor umbral para eliminar los píxeles conectados más granes,\n",
        "    a4_big_size_outliar_constant = a4_small_size_outliar_constant*constant_parameter_4   \n",
        "\n",
        "    # eliminar los píxeles conectados son más pequeños que a4_small_siz...\n",
        "    pre_version = morphology.remove_small_objects(blobs_labels, a4_small_size_outliar_constant)\n",
        "    # eliminar los píxeles conectados son más grandes que a4_big_siz...\n",
        "    #para deshacerse de los píxeles conectados no deseados, como las cabeceras de las tablas, etc\n",
        "    component_sizes = np.bincount(pre_version.ravel())\n",
        "    too_small = component_sizes > (a4_big_size_outliar_constant)\n",
        "    too_small_mask = too_small[pre_version]\n",
        "    pre_version[too_small_mask] = 0\n",
        "    # guardamos la pre version\n",
        "    #como considerando componentes conectados\n",
        "    cv2.imwrite('pre_version.png', pre_version)    \n",
        "    img = cv2.imread('pre_version.png', 0)    \n",
        "    #Aplicamos nuevamente umbralizaxcion binario inversa\n",
        "    img = cv2.threshold(img, 0, 255, cv2.THRESH_BINARY_INV | cv2.THRESH_OTSU)[1]\n",
        "    #fin mmodelo de deteccion de firma\n",
        "    #PARTE 2\n",
        "    #recuadro de la firma \n",
        "    #preguntamos si la imagen no esta vacía    \n",
        "    if img  is None:      \n",
        "      continue\n",
        "    else:\n",
        "      #guardamos la imagen\n",
        "      #cv2.imwrite(\"./outputs/output.png\", img)     \n",
        "\n",
        "      # cargar la imagen, convertirla a escala de grises y difuminarla para eliminar el ruido\n",
        "      image = img\n",
        "      test_img_h, test_img_w, test_img_ch = np.array(img).shape\n",
        "      #convertirlo a escala de grises\n",
        "      gray = cv2.cvtColor(image, cv2.COLOR_BGR2GRAY)\n",
        "      gray = cv2.GaussianBlur(gray, (7, 7), 0)\n",
        "\n",
        "      # aplicamos umbralizacion\n",
        "      ret,thresh1 = cv2.threshold(gray ,127,255,cv2.THRESH_BINARY_INV)\n",
        "\n",
        "      # dilatar las porciones blancas\n",
        "      dilate = cv2.dilate(thresh1, None, iterations=2)\n",
        "\n",
        "      # buscamos contornos de la imagen\n",
        "      cnts = cv2.findContours(dilate.copy(), cv2.RETR_EXTERNAL,\n",
        "          cv2.CHAIN_APPROX_SIMPLE)\n",
        "\n",
        "      cnts = cnts[0] \n",
        "      #creamos una copia de la imagen\n",
        "      orig = image.copy()      \n",
        "      y = 1\n",
        "      for cnt in cnts:\n",
        "          #Comprueba el área del contorno, si es muy pequeña la igonoramos\n",
        "          if y < 15:\n",
        "            #Comprueba el área del contorno, si es muy pequeña la igonoramos\n",
        "            if(cv2.contourArea(cnt) < 100):\n",
        "                continue\n",
        "\n",
        "            # filtramos los contornos de la imagen\n",
        "            x,y,w,h = cv2.boundingRect(cnt)\n",
        "\n",
        "            # tomamos la region de interes de los contonos como rectangulo\n",
        "            roi = image[y:y+h, x:x+w]\n",
        "            #imagen final\n",
        "            roi = cv2.rectangle(orig,(x,y),(x+w,y+h),(0,255,0),2)        \n",
        "         \n",
        "            # Save your contours or characters\n",
        "            cv2.imwrite(\"roi\" + str(i) + \".png\", roi)\n",
        "            #print('i: ',i)\n",
        "            pic_narray = np.array(roi)\n",
        "            listanames.append(roi)\n",
        "            listawidth.append(test_img_w)\n",
        "            listaheight.append(test_img_h)\n",
        "            listaxmin.append(x)\n",
        "            listaymin.append(y)\n",
        "            listaxmax.append(x+w)\n",
        "            listaymax.append(y+h)\n",
        "            listaetiqueta.append(\"Signature\")\n",
        "            i = i + 1      \n",
        "            y = y +6\n",
        "          else:        \n",
        "            break\n",
        "          "
      ],
      "execution_count": null,
      "outputs": []
    },
    {
      "cell_type": "code",
      "metadata": {
        "id": "gn8GYP4XBl4r"
      },
      "source": [
        ""
      ],
      "execution_count": null,
      "outputs": []
    },
    {
      "cell_type": "code",
      "metadata": {
        "id": "AJKzrUdNj-Tn"
      },
      "source": [
        "datafiles = {'filename':listanames, 'width':listawidth, 'height': listaheight, 'etiqueta':listaetiqueta, 'xmin':listaxmin, 'ymin':listaymin, 'xmax':listaxmax, 'ymax':listaymax}"
      ],
      "execution_count": null,
      "outputs": []
    },
    {
      "cell_type": "markdown",
      "metadata": {
        "id": "f6KG5C7kmKKj"
      },
      "source": [
        "#PASO 4\n",
        "Guardamos las imágenes en un dataframe y lo exportamos en un .csv"
      ]
    },
    {
      "cell_type": "code",
      "metadata": {
        "id": "DBCZjgwe72do",
        "colab": {
          "base_uri": "https://localhost:8080/",
          "height": 142
        },
        "outputId": "3cec26b8-e88c-4419-dec1-de8174ff4fdc"
      },
      "source": [
        "dffiles= pd.DataFrame(datafiles)\n",
        "dffiles"
      ],
      "execution_count": null,
      "outputs": [
        {
          "output_type": "execute_result",
          "data": {
            "text/html": [
              "<div>\n",
              "<style scoped>\n",
              "    .dataframe tbody tr th:only-of-type {\n",
              "        vertical-align: middle;\n",
              "    }\n",
              "\n",
              "    .dataframe tbody tr th {\n",
              "        vertical-align: top;\n",
              "    }\n",
              "\n",
              "    .dataframe thead th {\n",
              "        text-align: right;\n",
              "    }\n",
              "</style>\n",
              "<table border=\"1\" class=\"dataframe\">\n",
              "  <thead>\n",
              "    <tr style=\"text-align: right;\">\n",
              "      <th></th>\n",
              "      <th>filename</th>\n",
              "      <th>width</th>\n",
              "      <th>height</th>\n",
              "      <th>etiqueta</th>\n",
              "      <th>xmin</th>\n",
              "      <th>ymin</th>\n",
              "      <th>xmax</th>\n",
              "      <th>ymax</th>\n",
              "    </tr>\n",
              "  </thead>\n",
              "  <tbody>\n",
              "    <tr>\n",
              "      <th>0</th>\n",
              "      <td>[[[255, 255, 255], [255, 255, 255], [255, 255,...</td>\n",
              "      <td>389</td>\n",
              "      <td>491</td>\n",
              "      <td>Signature</td>\n",
              "      <td>191</td>\n",
              "      <td>431</td>\n",
              "      <td>209</td>\n",
              "      <td>440</td>\n",
              "    </tr>\n",
              "    <tr>\n",
              "      <th>1</th>\n",
              "      <td>[[[255, 255, 255], [255, 255, 255], [255, 255,...</td>\n",
              "      <td>389</td>\n",
              "      <td>491</td>\n",
              "      <td>Signature</td>\n",
              "      <td>182</td>\n",
              "      <td>417</td>\n",
              "      <td>242</td>\n",
              "      <td>430</td>\n",
              "    </tr>\n",
              "    <tr>\n",
              "      <th>2</th>\n",
              "      <td>[[[255, 255, 255], [255, 255, 255], [255, 255,...</td>\n",
              "      <td>389</td>\n",
              "      <td>491</td>\n",
              "      <td>Signature</td>\n",
              "      <td>342</td>\n",
              "      <td>234</td>\n",
              "      <td>360</td>\n",
              "      <td>242</td>\n",
              "    </tr>\n",
              "  </tbody>\n",
              "</table>\n",
              "</div>"
            ],
            "text/plain": [
              "                                            filename  width  ...  xmax ymax\n",
              "0  [[[255, 255, 255], [255, 255, 255], [255, 255,...    389  ...   209  440\n",
              "1  [[[255, 255, 255], [255, 255, 255], [255, 255,...    389  ...   242  430\n",
              "2  [[[255, 255, 255], [255, 255, 255], [255, 255,...    389  ...   360  242\n",
              "\n",
              "[3 rows x 8 columns]"
            ]
          },
          "metadata": {},
          "execution_count": 51
        }
      ]
    },
    {
      "cell_type": "code",
      "metadata": {
        "id": "AwB8lxEYPfYb"
      },
      "source": [
        "#print(dffiles.index)\n",
        "dffiles.to_csv (r'/export_dataframe.csv', index = False, header=True)"
      ],
      "execution_count": null,
      "outputs": []
    },
    {
      "cell_type": "code",
      "metadata": {
        "colab": {
          "base_uri": "https://localhost:8080/",
          "height": 1000
        },
        "id": "fdWkCx1IPmBa",
        "outputId": "b83c7484-16e5-4f89-8fc3-0bc3074fbdba"
      },
      "source": [
        "#guardamos la imagen como array y lo convertimos para poder visualizar y/o modificar :)\n",
        "#im0 = dffiles.iloc[0, 0]\n",
        "#print(im0)\n",
        "#data = Image.fromarray(im0)\n",
        "#plt.imshow(data)"
      ],
      "execution_count": null,
      "outputs": [
        {
          "output_type": "stream",
          "text": [
            "[[[255 255 255]\n",
            "  [255 255 255]\n",
            "  [255 255 255]\n",
            "  ...\n",
            "  [255 255 255]\n",
            "  [255 255 255]\n",
            "  [255 255 255]]\n",
            "\n",
            " [[255 255 255]\n",
            "  [255 255 255]\n",
            "  [255 255 255]\n",
            "  ...\n",
            "  [255 255 255]\n",
            "  [255 255 255]\n",
            "  [255 255 255]]\n",
            "\n",
            " [[255 255 255]\n",
            "  [255 255 255]\n",
            "  [255 255 255]\n",
            "  ...\n",
            "  [255 255 255]\n",
            "  [255 255 255]\n",
            "  [255 255 255]]\n",
            "\n",
            " ...\n",
            "\n",
            " [[255 255 255]\n",
            "  [255 255 255]\n",
            "  [255 255 255]\n",
            "  ...\n",
            "  [255 255 255]\n",
            "  [255 255 255]\n",
            "  [255 255 255]]\n",
            "\n",
            " [[255 255 255]\n",
            "  [255 255 255]\n",
            "  [255 255 255]\n",
            "  ...\n",
            "  [255 255 255]\n",
            "  [255 255 255]\n",
            "  [255 255 255]]\n",
            "\n",
            " [[255 255 255]\n",
            "  [255 255 255]\n",
            "  [255 255 255]\n",
            "  ...\n",
            "  [255 255 255]\n",
            "  [255 255 255]\n",
            "  [255 255 255]]]\n"
          ],
          "name": "stdout"
        },
        {
          "output_type": "execute_result",
          "data": {
            "text/plain": [
              "<matplotlib.image.AxesImage at 0x7fbe144bf310>"
            ]
          },
          "metadata": {},
          "execution_count": 62
        },
        {
          "output_type": "display_data",
          "data": {
            "image/png": "[encoded data removed]",
            "text/plain": [
              "<Figure size 432x288 with 1 Axes>"
            ]
          },
          "metadata": {
            "needs_background": "light"
          }
        }
      ]
    },
    {
      "cell_type": "code",
      "metadata": {
        "id": "vwgcy0o3BoNx"
      },
      "source": [
        ""
      ],
      "execution_count": null,
      "outputs": []
    }
  ]
}